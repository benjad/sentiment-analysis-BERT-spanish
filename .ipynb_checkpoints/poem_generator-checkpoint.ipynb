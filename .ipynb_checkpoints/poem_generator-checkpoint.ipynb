{
 "cells": [
  {
   "cell_type": "markdown",
   "metadata": {},
   "source": [
    "# Sentiment analysis using spanish version of BERT \n",
    "\n"
   ]
  },
  {
   "cell_type": "markdown",
   "metadata": {},
   "source": [
    "## Data recollection\n",
    "First we collect reviews from de Google Play Store and save the into a *.csv* file."
   ]
  },
  {
   "cell_type": "code",
   "execution_count": 5,
   "metadata": {},
   "outputs": [],
   "source": [
    "from selenium import webdriver\n",
    "from webdriver_manager.chrome import ChromeDriverManager\n",
    "from selenium.webdriver.support.ui import WebDriverWait\n",
    "from selenium.webdriver.common.by import By\n",
    "from selenium.webdriver.support import expected_conditions as EC\n",
    "from selenium.webdriver.common.action_chains import ActionChains\n",
    "import pandas as pd\n",
    "import time\n",
    "\n",
    "\n",
    "#function get reviews from google apps website\n",
    "def get_reviews(url):\n",
    "    driver = webdriver.Chrome(ChromeDriverManager().install())\n",
    "    driver.get(url)\n",
    "    scroll_loops = 12 # number of scrolls to keep loading reviews\n",
    "    for a in range(scroll_loops):\n",
    "        driver.execute_script(\"window.scrollTo(0,document.body.scrollHeight)\")\n",
    "        time.sleep(3)\n",
    "        show_more = driver.find_elements(By.XPATH, \"//span[.='Mostrar más']\")\n",
    "        print(show_more)\n",
    "        #if a 'show more' button exist, clicks on\n",
    "        if show_more:\n",
    "            time.sleep(2)\n",
    "            element = show_more[0]\n",
    "            actions = ActionChains(driver)\n",
    "            actions.move_to_element(element).perform()\n",
    "            show_more[0].click()\n",
    "            print('click')\n",
    "        else:\n",
    "            driver.execute_script(\"window.scrollTo(0,document.body.scrollHeight)\")\n",
    "            print('end of page')\n",
    "\n",
    "    time.sleep(5)\n",
    "\n",
    "    # Search and click \"see full review\" buttons\n",
    "    element = driver.find_element_by_class_name(\"Rc8qze\")\n",
    "    driver.execute_script(\"\"\"var element = arguments[0];\n",
    "                element.parentNode.removeChild(element);\n",
    "                \"\"\", element)\n",
    "    for button in WebDriverWait(driver, 10).until(EC.visibility_of_all_elements_located(\n",
    "        (By.XPATH, \"//button[contains(text(),'Ver opinión completa')]\"))):\n",
    "        button.click()\n",
    "        time.sleep(1)\n",
    "\n",
    "    # Collect reviews and ratings\n",
    "    main_div = driver.find_element_by_xpath('//div[@jsname=\"fk8dgd\"]')\n",
    "    stars = main_div.find_elements_by_xpath('//div[@class=\"pf5lIe\"]/div[1]')\n",
    "    reviews = main_div.find_elements_by_xpath('//div[@jscontroller=\"LVJlx\"]')\n",
    "    stars_len = len(stars)\n",
    "    reviews_text = [review.text for review in reviews]\n",
    "    stars_text = [star.get_attribute(\"aria-label\") for star in stars[1:(stars_len-5)]]\n",
    "\n",
    "    # Save everything to a .csv file\n",
    "    df = pd.DataFrame(data={'reviews':reviews_text, 'stars':stars_text})\n",
    "    df.to_csv('reviews.csv')\n",
    "\n",
    "# Call function on the 'yapo.cl'  google app site\n",
    "get_reviews(\"https://play.google.com/store/apps/details?id=cl.yapo&hl=es_GT&showAllReviews=true\")"
   ]
  },
  {
   "cell_type": "markdown",
   "metadata": {},
   "source": [
    "Plot the rating distribution."
   ]
  },
  {
   "cell_type": "code",
   "execution_count": 27,
   "metadata": {},
   "outputs": [
    {
     "data": {
      "text/plain": [
       "[]"
      ]
     },
     "execution_count": 27,
     "metadata": {},
     "output_type": "execute_result"
    },
    {
     "data": {
      "image/png": "[encoded data removed]",
      "text/plain": [
       "<Figure size 432x288 with 1 Axes>"
      ]
     },
     "metadata": {
      "needs_background": "light"
     },
     "output_type": "display_data"
    }
   ],
   "source": [
    "import matplotlib.pyplot as plt\n",
    "import seaborn as sns\n",
    "import pandas as pd\n",
    "import re\n",
    "\n",
    "df = pd.read_csv('reviews.csv')\n",
    "values = df['stars'].value_counts()\n",
    "index = [re.findall(r'\\d+', x)[0] for x in values.index ]\n",
    "ax = sns.barplot(x=index, y=values.values, palette='Blues_d')\n",
    "ax.plot()"
   ]
  },
  {
   "cell_type": "markdown",
   "metadata": {},
   "source": [
    "## Data cleaning and preparation\n",
    "We transform starts rating into 3 categories: *negative*, *neutral* and *positive*. Also perform some cleaning and spelling correction."
   ]
  },
  {
   "cell_type": "code",
   "execution_count": 28,
   "metadata": {},
   "outputs": [],
   "source": [
    "\n",
    "# function to replace incorrectly spelled words \n",
    "def correct_speeling(text):\n",
    "    replace_dict = {'tenindo': 'teniendo',\n",
    "        'tranferencia': 'transferencia', 'grscias':'gracias',\n",
    "        'cion':'ción','albañi':'albañil',\n",
    "        'aplicasion':'aplicación','arrglenl':'arreglenlo',\n",
    "        'arreglenloo':'arreglenlo','avanze':'avance',\n",
    "        'direccione':'direcciones','24marzo':'24 marzo',\n",
    "        'yapooo':'yapo','yapoo':'yapo', 'yapos':'yapo'}\n",
    "    for x, y in replace_dict.items():\n",
    "        text = text.replace(x, y)\n",
    "    return text\n",
    "\n",
    "# function to clean and transform the reviews\n",
    "def clean_csv(file):\n",
    "    df = pd.read_csv(file)\n",
    "    df['rating'] = df['stars'].apply(\n",
    "                   lambda x: re.findall(\"[0-9]\", x)[0])\n",
    "    df['sentiment'] = df['rating'].map(\n",
    "             {'1':'negative','2':'negative', '3':'neutral', \n",
    "             '4':'positive', '5':'positive'})\n",
    "    df['class'] = df['rating'].map({'1':0,'2':0, '3':1,\n",
    "                  '4':2, '5':2})\n",
    "    a, b = 'áéíóúü,.:', 'aeiouu   '\n",
    "    trans = str.maketrans(a, b)\n",
    "    df['clean_reviews'] = df['reviews'].apply(\n",
    "                          lambda x: x.lower())\n",
    "    df['clean_reviews'] = df['clean_reviews'].apply(\n",
    "                          correct_speeling)\n",
    "    df['clean_reviews_nb'] = df['clean_reviews'].apply(\n",
    "                          lambda x: x.translate(trans))\n",
    "    print(df.head())\n",
    "    df.to_csv(file[:-4]+'clean.csv')\n",
    "\n",
    "#call function on the previously collected reviews\n",
    "clean_csv('reviews.csv')"
   ]
  },
  {
   "cell_type": "markdown",
   "metadata": {},
   "source": [
    "## Base model:  Naive Bayes\n",
    "We define a Naive Bayes model to evaluate the results on the BERT model."
   ]
  },
  {
   "cell_type": "code",
   "execution_count": 2,
   "metadata": {},
   "outputs": [],
   "source": [
    "def poem_generator(file, word, n_sents=4):\n",
    "        #load the english model from Spacy\n",
    "        nlp = spacy.load(\"en\")\n",
    "        init_str = nlp(word)\n",
    "        path = os.getcwd()\n",
    "        sentences = pd.read_csv(path+'/'+ file)\n",
    "        sup_index= sentences.shape[0]\n",
    "        poem_id = int()\n",
    "        poem =[]\n",
    "        #generate the sentences\n",
    "        for i in range(n_sents):\n",
    "            rand_sent_index = np.random.randint(0, sup_index, size=30)\n",
    "            sent_list = list(sentences.sentence.iloc[rand_sent_index])\n",
    "            #transform sentences to a Spacy Doc object\n",
    "            docs = nlp.pipe(sent_list)\n",
    "            sim_list = []\n",
    "            #compute similarity for each sentence\n",
    "            for sent in docs:\n",
    "                similarity = (init_str.similarity(sent))\n",
    "                sim_list.append(similarity)\n",
    "            #saves similarity to DataFrame\n",
    "            df_1 = pd.DataFrame({'similarity' : sim_list, 'doc_id' : sentences.doc_id.iloc[rand_sent_index] }, index=rand_sent_index)   \n",
    "            df_1 = df_1[df_1.doc_id != poem_id]\n",
    "            df_1.sort_values(by='similarity', inplace=True, ascending=False)\n",
    "            sent_index= df_1.index[0]\n",
    "            sent = sentences.sentence[sent_index]\n",
    "            #erase line jumps and carriage return\n",
    "            replace_dict = {'\\n' :  '', '\\r' :  ''}\n",
    "            for x,y in replace_dict.items():\n",
    "                sent = sent.replace(x, y)\n",
    "            poem.append(sent)    \n",
    "            poem_id = df_1.doc_id.iloc[0]\n",
    "            init_str = nlp(sent)  \n",
    "        #join the sentences with a line break\n",
    "        str_poem = (\"\\n\".join(poem)) \n",
    "        return str_poem"
   ]
  },
  {
   "cell_type": "markdown",
   "metadata": {},
   "source": [
    "## poem formating function\n",
    "Finally we define a function to uppercase the first letter and add a dot and the end."
   ]
  },
  {
   "cell_type": "code",
   "execution_count": 3,
   "metadata": {},
   "outputs": [],
   "source": [
    "def format_poem(text):\n",
    "    text = text[:1].upper() + text[1:]\n",
    "    text = text[:-1] + '.'\n",
    "    return text "
   ]
  },
  {
   "cell_type": "markdown",
   "metadata": {},
   "source": [
    "## Results"
   ]
  },
  {
   "cell_type": "code",
   "execution_count": 6,
   "metadata": {},
   "outputs": [
    {
     "name": "stdout",
     "output_type": "stream",
     "text": [
      "     if i can hope- oh god! i can-\n",
      "      yes, heaven is thine; but this\n",
      " endued with neither soul, nor sense, nor art,\n",
      "   'twere folly still to hope for higher heaven.\n"
     ]
    }
   ],
   "source": [
    "# example n° 1\n",
    "poem = poem_generator(file='sentences_allan_poems.csv',word='love')\n",
    "poem = format_poem(poem)\n",
    "print(poem)"
   ]
  },
  {
   "cell_type": "code",
   "execution_count": null,
   "metadata": {},
   "outputs": [],
   "source": []
  }
 ],
 "metadata": {
  "kernelspec": {
   "display_name": "Python 3",
   "language": "python",
   "name": "python3"
  },
  "language_info": {
   "codemirror_mode": {
    "name": "ipython",
    "version": 3
   },
   "file_extension": ".py",
   "mimetype": "text/x-python",
   "name": "python",
   "nbconvert_exporter": "python",
   "pygments_lexer": "ipython3",
   "version": "3.7.3"
  }
 },
 "nbformat": 4,
 "nbformat_minor": 2
}
